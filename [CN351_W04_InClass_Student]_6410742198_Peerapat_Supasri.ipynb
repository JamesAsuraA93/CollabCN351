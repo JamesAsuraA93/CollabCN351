{
  "nbformat": 4,
  "nbformat_minor": 0,
  "metadata": {
    "colab": {
      "provenance": [],
      "include_colab_link": true
    },
    "kernelspec": {
      "name": "python3",
      "display_name": "Python 3"
    }
  },
  "cells": [
    {
      "cell_type": "markdown",
      "metadata": {
        "id": "view-in-github",
        "colab_type": "text"
      },
      "source": [
        "<a href=\"https://colab.research.google.com/github/JamesAsuraA93/CollabCN351/blob/main/%5BCN351_W04_InClass_Student%5D_6410742198_Peerapat_Supasri.ipynb\" target=\"_parent\"><img src=\"https://colab.research.google.com/assets/colab-badge.svg\" alt=\"Open In Colab\"/></a>"
      ]
    },
    {
      "cell_type": "markdown",
      "source": [
        "# CN351-W04-IndAssignment: HTTP Explorations Part2\n",
        "* *Instructors*\n",
        "  1. [Akkharawoot TAKHOM](https://www.nectec.or.th/hccru/staff/view/85)\n",
        "  2. Tharathon Utasri\n",
        "* *Email*: `takkhara@engr.tu.ac.th`\n",
        "* *Affiliation* : Department of Electrical and Computer Engineering, Faculty of Engineering, Thammasat University\n",
        "* *Revision Date* : Febuary-01-2023\n"
      ],
      "metadata": {
        "id": "0TZHKxymRetm"
      }
    },
    {
      "cell_type": "markdown",
      "source": [
        "---\n",
        "\n",
        "> **Acknowledgement:**\n",
        "  * Practical Statistics - 1 (Descriptive Statistics)\n",
        "  *LINK: https://www.kaggle.com/code/yashvi/practical-statistics-1-descriptive-statistics\n",
        "  * Dataset NYC Property Sales\n",
        "  *Link https://www.kaggle.com/datasets/new-york-city/nyc-property-sales\n",
        "\n",
        "> **References:**\n",
        "* Socket : https://docs.python.org/3/library/socket.html\n",
        "* HTTP : https://fr.wikipedia.org/wiki/Hypertext_Transfer_Protocol\n",
        "\n",
        "> <a rel=\"license\" href=\"http://creativecommons.org/licenses/by-nc-sa/4.0/\"><img alt=\"Creative Commons License\" style=\"border-width:0\" src=\"https://i.creativecommons.org/l/by-nc-sa/4.0/88x31.png\" /></a><br />This work is licensed under a <a rel=\"license\" href=\"http://creativecommons.org/licenses/by-nc-sa/4.0/\">Creative Commons Attribution-NonCommercial-ShareAlike 4.0 International License</a>.\n",
        "\n",
        "---"
      ],
      "metadata": {
        "id": "wTPGHibhTJyl"
      }
    },
    {
      "cell_type": "markdown",
      "source": [
        "#Examples of HTTP Reqeust Methods"
      ],
      "metadata": {
        "id": "FubJSTONjTgI"
      }
    },
    {
      "cell_type": "markdown",
      "source": [
        "## 1) HTTP Request: Netcat on UNIX\n",
        "ใช้ netcat บน UNIX"
      ],
      "metadata": {
        "id": "J3A_el7Ujbdz"
      }
    },
    {
      "cell_type": "markdown",
      "metadata": {
        "id": "f-NP2RX_KYqk"
      },
      "source": [
        "#### 1.1) Netcat Installation\n",
        "ติดตั้งเครื่องมือ netcat เพื่อใช้ รับ-ส่ง Request-Response\n"
      ]
    },
    {
      "cell_type": "markdown",
      "source": [
        "* netcat: https://docs.oracle.com/cd/E86824_01/html/E54763/netcat-1.html\n",
        "* nmap https://nmap.org/book/man.html\n",
        "* ncat https://man7.org/linux/man-pages/man1/ncat.1.html"
      ],
      "metadata": {
        "id": "fVFAfradM6lK"
      }
    },
    {
      "cell_type": "code",
      "metadata": {
        "id": "bvmBkESn90WR",
        "outputId": "6eb6440e-8cda-4d7e-8587-bac4e23cb882",
        "colab": {
          "base_uri": "https://localhost:8080/"
        }
      },
      "source": [
        "! apt-get -q -y install netcat-openbsd\n",
        "! apt-get -q -y install nmap\n",
        "! apt-get -q -y install ncat"
      ],
      "execution_count": null,
      "outputs": [
        {
          "output_type": "stream",
          "name": "stdout",
          "text": [
            "Reading package lists...\n",
            "Building dependency tree...\n",
            "Reading state information...\n",
            "The following NEW packages will be installed:\n",
            "  netcat-openbsd\n",
            "0 upgraded, 1 newly installed, 0 to remove and 31 not upgraded.\n",
            "Need to get 39.4 kB of archives.\n",
            "After this operation, 109 kB of additional disk space will be used.\n",
            "Get:1 http://archive.ubuntu.com/ubuntu jammy/main amd64 netcat-openbsd amd64 1.218-4ubuntu1 [39.4 kB]\n",
            "Fetched 39.4 kB in 0s (201 kB/s)\n",
            "Selecting previously unselected package netcat-openbsd.\n",
            "(Reading database ... 121671 files and directories currently installed.)\n",
            "Preparing to unpack .../netcat-openbsd_1.218-4ubuntu1_amd64.deb ...\n",
            "Unpacking netcat-openbsd (1.218-4ubuntu1) ...\n",
            "Setting up netcat-openbsd (1.218-4ubuntu1) ...\n",
            "update-alternatives: using /bin/nc.openbsd to provide /bin/nc (nc) in auto mode\n",
            "Processing triggers for man-db (2.10.2-1) ...\n",
            "Reading package lists...\n",
            "Building dependency tree...\n",
            "Reading state information...\n",
            "The following additional packages will be installed:\n",
            "  liblinear4 liblua5.3-0 libpcap0.8 lua-lpeg nmap-common\n",
            "Suggested packages:\n",
            "  liblinear-tools liblinear-dev ncat ndiff zenmap\n",
            "The following NEW packages will be installed:\n",
            "  liblinear4 liblua5.3-0 libpcap0.8 lua-lpeg nmap nmap-common\n",
            "0 upgraded, 6 newly installed, 0 to remove and 31 not upgraded.\n",
            "Need to get 6,029 kB of archives.\n",
            "After this operation, 26.5 MB of additional disk space will be used.\n",
            "Get:1 http://archive.ubuntu.com/ubuntu jammy/main amd64 libpcap0.8 amd64 1.10.1-4build1 [145 kB]\n",
            "Get:2 http://archive.ubuntu.com/ubuntu jammy/universe amd64 liblinear4 amd64 2.3.0+dfsg-5 [41.4 kB]\n",
            "Get:3 http://archive.ubuntu.com/ubuntu jammy/main amd64 liblua5.3-0 amd64 5.3.6-1build1 [140 kB]\n",
            "Get:4 http://archive.ubuntu.com/ubuntu jammy/universe amd64 lua-lpeg amd64 1.0.2-1 [31.4 kB]\n",
            "Get:5 http://archive.ubuntu.com/ubuntu jammy-updates/universe amd64 nmap-common all 7.91+dfsg1+really7.80+dfsg1-2ubuntu0.1 [3,940 kB]\n",
            "Get:6 http://archive.ubuntu.com/ubuntu jammy-updates/universe amd64 nmap amd64 7.91+dfsg1+really7.80+dfsg1-2ubuntu0.1 [1,731 kB]\n",
            "Fetched 6,029 kB in 1s (11.1 MB/s)\n",
            "Selecting previously unselected package libpcap0.8:amd64.\n",
            "(Reading database ... 121693 files and directories currently installed.)\n",
            "Preparing to unpack .../0-libpcap0.8_1.10.1-4build1_amd64.deb ...\n",
            "Unpacking libpcap0.8:amd64 (1.10.1-4build1) ...\n",
            "Selecting previously unselected package liblinear4:amd64.\n",
            "Preparing to unpack .../1-liblinear4_2.3.0+dfsg-5_amd64.deb ...\n",
            "Unpacking liblinear4:amd64 (2.3.0+dfsg-5) ...\n",
            "Selecting previously unselected package liblua5.3-0:amd64.\n",
            "Preparing to unpack .../2-liblua5.3-0_5.3.6-1build1_amd64.deb ...\n",
            "Unpacking liblua5.3-0:amd64 (5.3.6-1build1) ...\n",
            "Selecting previously unselected package lua-lpeg:amd64.\n",
            "Preparing to unpack .../3-lua-lpeg_1.0.2-1_amd64.deb ...\n",
            "Unpacking lua-lpeg:amd64 (1.0.2-1) ...\n",
            "Selecting previously unselected package nmap-common.\n",
            "Preparing to unpack .../4-nmap-common_7.91+dfsg1+really7.80+dfsg1-2ubuntu0.1_all.deb ...\n",
            "Unpacking nmap-common (7.91+dfsg1+really7.80+dfsg1-2ubuntu0.1) ...\n",
            "Selecting previously unselected package nmap.\n",
            "Preparing to unpack .../5-nmap_7.91+dfsg1+really7.80+dfsg1-2ubuntu0.1_amd64.deb ...\n",
            "Unpacking nmap (7.91+dfsg1+really7.80+dfsg1-2ubuntu0.1) ...\n",
            "Setting up lua-lpeg:amd64 (1.0.2-1) ...\n",
            "Setting up liblinear4:amd64 (2.3.0+dfsg-5) ...\n",
            "Setting up libpcap0.8:amd64 (1.10.1-4build1) ...\n",
            "Setting up nmap-common (7.91+dfsg1+really7.80+dfsg1-2ubuntu0.1) ...\n",
            "Setting up liblua5.3-0:amd64 (5.3.6-1build1) ...\n",
            "Setting up nmap (7.91+dfsg1+really7.80+dfsg1-2ubuntu0.1) ...\n",
            "Processing triggers for man-db (2.10.2-1) ...\n",
            "Processing triggers for libc-bin (2.35-0ubuntu3.4) ...\n",
            "/sbin/ldconfig.real: /usr/local/lib/libtbbmalloc_proxy.so.2 is not a symbolic link\n",
            "\n",
            "/sbin/ldconfig.real: /usr/local/lib/libtbbmalloc.so.2 is not a symbolic link\n",
            "\n",
            "/sbin/ldconfig.real: /usr/local/lib/libtbbbind_2_5.so.3 is not a symbolic link\n",
            "\n",
            "/sbin/ldconfig.real: /usr/local/lib/libtbb.so.12 is not a symbolic link\n",
            "\n",
            "/sbin/ldconfig.real: /usr/local/lib/libtbbbind_2_0.so.3 is not a symbolic link\n",
            "\n",
            "/sbin/ldconfig.real: /usr/local/lib/libtbbbind.so.3 is not a symbolic link\n",
            "\n",
            "Reading package lists...\n",
            "Building dependency tree...\n",
            "Reading state information...\n",
            "The following NEW packages will be installed:\n",
            "  ncat\n",
            "0 upgraded, 1 newly installed, 0 to remove and 31 not upgraded.\n",
            "Need to get 101 kB of archives.\n",
            "After this operation, 253 kB of additional disk space will be used.\n",
            "Get:1 http://archive.ubuntu.com/ubuntu jammy-updates/universe amd64 ncat amd64 7.91+dfsg1+really7.80+dfsg1-2ubuntu0.1 [101 kB]\n",
            "Fetched 101 kB in 0s (441 kB/s)\n",
            "Selecting previously unselected package ncat.\n",
            "(Reading database ... 122581 files and directories currently installed.)\n",
            "Preparing to unpack .../ncat_7.91+dfsg1+really7.80+dfsg1-2ubuntu0.1_amd64.deb ...\n",
            "Unpacking ncat (7.91+dfsg1+really7.80+dfsg1-2ubuntu0.1) ...\n",
            "Setting up ncat (7.91+dfsg1+really7.80+dfsg1-2ubuntu0.1) ...\n",
            "Processing triggers for man-db (2.10.2-1) ...\n"
          ]
        }
      ]
    },
    {
      "cell_type": "markdown",
      "metadata": {
        "id": "9zoUwKzYuOTG"
      },
      "source": [
        "#### 1.2) Netcat GET Request Example\n",
        "ทดลองการส่ง GET Request ด้วย netcat"
      ]
    },
    {
      "cell_type": "markdown",
      "source": [
        "* ส่ง HTTP/1.1 GET\n",
        "* Location /get\n",
        "* Host httpbin.org\n",
        "* HTTP Port 80"
      ],
      "metadata": {
        "id": "dEBl87r6NTXN"
      }
    },
    {
      "cell_type": "markdown",
      "source": [
        "https://linux.die.net/man/1/echo\n",
        "```\n",
        "echo\n",
        "    -e\n",
        "    enable interpretation of backslash escapes\n",
        "    \n",
        "    -n\n",
        "    do not output the trailing newline\n",
        "```\n",
        "\n"
      ],
      "metadata": {
        "id": "hA2gLuFfSFKM"
      }
    },
    {
      "cell_type": "code",
      "metadata": {
        "id": "gLz7M20LKd0q",
        "outputId": "79a00ccb-6c29-4d03-a0e8-d513e2d8023a",
        "colab": {
          "base_uri": "https://localhost:8080/"
        }
      },
      "source": [
        "! echo -ne \"GET /get HTTP/1.1\\r\\nHost: httpbin.org\\r\\n\\r\\n\" | ncat --no-shutdown -i 1s httpbin.org 80"
      ],
      "execution_count": null,
      "outputs": [
        {
          "output_type": "stream",
          "name": "stdout",
          "text": [
            "HTTP/1.1 200 OK\r\n",
            "Date: Tue, 30 Jan 2024 12:04:52 GMT\r\n",
            "Content-Type: application/json\r\n",
            "Content-Length: 198\r\n",
            "Connection: keep-alive\r\n",
            "Server: gunicorn/19.9.0\r\n",
            "Access-Control-Allow-Origin: *\r\n",
            "Access-Control-Allow-Credentials: true\r\n",
            "\r\n",
            "{\n",
            "  \"args\": {}, \n",
            "  \"headers\": {\n",
            "    \"Host\": \"httpbin.org\", \n",
            "    \"X-Amzn-Trace-Id\": \"Root=1-65b8e5e4-621c4acd1742a26615c898cf\"\n",
            "  }, \n",
            "  \"origin\": \"35.202.84.250\", \n",
            "  \"url\": \"http://httpbin.org/get\"\n",
            "}\n",
            "Ncat: Idle timeout expired (1000 ms).\n"
          ]
        }
      ]
    },
    {
      "cell_type": "markdown",
      "source": [
        "#### 1.3) Netcat GET Request on HTTPS without SSL\n",
        "ทดลองส่ง GET Request แบบ HTTPS ไม่มี ssl ผ่าน netcat"
      ],
      "metadata": {
        "id": "ARpg2LJEZSi3"
      }
    },
    {
      "cell_type": "markdown",
      "source": [
        "* ส่ง HTTP/1.1 GET\n",
        "* Location /\n",
        "* Host cn351.cdoam.org\n",
        "* HTTPS Port 443"
      ],
      "metadata": {
        "id": "3uZfQYU_NikG"
      }
    },
    {
      "cell_type": "code",
      "source": [
        "! echo -ne \"GET / HTTP/1.1\\r\\nHost: httpbin.org\\r\\n\\r\\n\" | ncat --no-shutdown -i 1s httpbin.org 443"
      ],
      "metadata": {
        "colab": {
          "base_uri": "https://localhost:8080/"
        },
        "id": "HpDU5kU9ZOwc",
        "outputId": "d43aab10-45d1-4e10-d8b0-283aa5b023bc"
      },
      "execution_count": null,
      "outputs": [
        {
          "output_type": "stream",
          "name": "stdout",
          "text": [
            "HTTP/1.1 400 Bad Request\r\n",
            "Server: nginx/1.18.0\r\n",
            "Date: Wed, 01 Feb 2023 03:53:38 GMT\r\n",
            "Content-Type: text/html\r\n",
            "Content-Length: 255\r\n",
            "Connection: close\r\n",
            "\r\n",
            "<html>\r\n",
            "<head><title>400 The plain HTTP request was sent to HTTPS port</title></head>\r\n",
            "<body>\r\n",
            "<center><h1>400 Bad Request</h1></center>\r\n",
            "<center>The plain HTTP request was sent to HTTPS port</center>\r\n",
            "<hr><center>nginx/1.18.0</center>\r\n",
            "</body>\r\n",
            "</html>\r\n",
            "Ncat: Idle timeout expired (1000 ms).\n"
          ]
        }
      ]
    },
    {
      "cell_type": "markdown",
      "source": [
        "#### 1.4) Netcat GET Request on HTTPS with SSL\n",
        "ทดลองส่ง GET Request แบบ HTTPS และมี ssl ผ่าน netcat"
      ],
      "metadata": {
        "id": "gfcgyXXYFFr0"
      }
    },
    {
      "cell_type": "markdown",
      "source": [
        "* ส่ง HTTP/1.1 GET\n",
        "* Location /get\n",
        "* Host httpbin.org\n",
        "* HTTPS Port 443"
      ],
      "metadata": {
        "id": "17jABeKBNlSh"
      }
    },
    {
      "cell_type": "markdown",
      "source": [
        "\n",
        "\n",
        "```\n",
        "ncat\n",
        "    --no-shutdown\n",
        "      not terminated connection after send request(wait for response)\n",
        "\n",
        "    -i [time (s=second) (ms=milisecond)]\n",
        "\n",
        "    --ssl\n",
        "      Send request with SSL\n",
        "```\n",
        "\n"
      ],
      "metadata": {
        "id": "gr-GgSlPSsJs"
      }
    },
    {
      "cell_type": "code",
      "source": [
        "! echo -e \"GET /get HTTP/1.1\\r\\nHost: httpbin.org\\r\\n\\r\\n\" | ncat --no-shutdown -i 1s --ssl httpbin.org 443"
      ],
      "metadata": {
        "colab": {
          "base_uri": "https://localhost:8080/"
        },
        "id": "98an7kG-FEjW",
        "outputId": "6b2049cb-9618-472f-83a7-88eb8d2a33ee"
      },
      "execution_count": null,
      "outputs": [
        {
          "output_type": "stream",
          "name": "stdout",
          "text": [
            "HTTP/1.1 200 OK\r\n",
            "Date: Tue, 30 Jan 2024 12:05:59 GMT\r\n",
            "Content-Type: application/json\r\n",
            "Content-Length: 199\r\n",
            "Connection: keep-alive\r\n",
            "Server: gunicorn/19.9.0\r\n",
            "Access-Control-Allow-Origin: *\r\n",
            "Access-Control-Allow-Credentials: true\r\n",
            "\r\n",
            "{\n",
            "  \"args\": {}, \n",
            "  \"headers\": {\n",
            "    \"Host\": \"httpbin.org\", \n",
            "    \"X-Amzn-Trace-Id\": \"Root=1-65b8e627-3b5a70ee62b7e7153caecf1a\"\n",
            "  }, \n",
            "  \"origin\": \"35.202.84.250\", \n",
            "  \"url\": \"https://httpbin.org/get\"\n",
            "}\n",
            "Ncat: Idle timeout expired (1000 ms).\n"
          ]
        }
      ]
    },
    {
      "cell_type": "markdown",
      "source": [
        "##2) Python Review: String-Bytes Conversion using b\n",
        "การแปลง String เป็น bytes ใน Python ด้วยการใช้ b"
      ],
      "metadata": {
        "id": "qFjRTctN9LA-"
      }
    },
    {
      "cell_type": "markdown",
      "source": [
        "* เฉพาะ ascii\n",
        "* การเข้ารหัสด้วย b ไม่สามารถเข้ารหัสภาษาไทยได้"
      ],
      "metadata": {
        "id": "L3i01GL6Nqxa"
      }
    },
    {
      "cell_type": "code",
      "metadata": {
        "id": "f3nB9cxczlfw",
        "outputId": "176ce8c3-8bce-440e-9a91-1aae6b2499c5",
        "colab": {
          "base_uri": "https://localhost:8080/"
        }
      },
      "source": [
        "s0 = \"CN351\"           # str object\n",
        "b0 = b\"CN351\"          # bytearray\n",
        "b1 = s0.encode()        # convert str to bytearray\n",
        "s1 = b0.decode()        # convert bytearray to str (utf-8 encoding)\n",
        "print(\"s0 =\", s1)\n",
        "print(\"b0 =\", b1)"
      ],
      "execution_count": null,
      "outputs": [
        {
          "output_type": "stream",
          "name": "stdout",
          "text": [
            "s0 = CN351\n",
            "b0 = b'CN351'\n"
          ]
        }
      ]
    },
    {
      "cell_type": "code",
      "metadata": {
        "id": "paXamFSN2R6A",
        "colab": {
          "base_uri": "https://localhost:8080/",
          "height": 36
        },
        "outputId": "46b9757a-1a78-41d3-d5ff-532fe4db5ae5"
      },
      "source": [
        "\"Hello, my name is {}!\".format(s1)"
      ],
      "execution_count": null,
      "outputs": [
        {
          "output_type": "execute_result",
          "data": {
            "text/plain": [
              "'Hello, my name is CN351!'"
            ],
            "application/vnd.google.colaboratory.intrinsic+json": {
              "type": "string"
            }
          },
          "metadata": {},
          "execution_count": 10
        }
      ]
    },
    {
      "cell_type": "markdown",
      "source": [
        "##3) Python Review: String-Bytes Conversion using bytes()\n",
        "การแปลง String เป็น bytes ใน Python ด้วยการใช้ bytes()"
      ],
      "metadata": {
        "id": "Pa_e1H2b9TBg"
      }
    },
    {
      "cell_type": "markdown",
      "source": [
        "* เข้ารหัสเป็นภาษาไทยได้ด้วย utf-8"
      ],
      "metadata": {
        "id": "ZiLPCm9kNx0v"
      }
    },
    {
      "cell_type": "code",
      "source": [
        "s0 = \"ซีเอ็น 351\"           # str object\n",
        "b0 = bytes(\"ซีเอ็น351\", encoding=\"utf-8\")          # bytearray\n",
        "b1 = s0.encode()        # convert str to bytearray\n",
        "s1 = b0.decode()        # convert bytearray to str (utf-8 encoding)\n",
        "print(\"s0 =\", s1)\n",
        "print(\"b0 =\", b1)"
      ],
      "metadata": {
        "colab": {
          "base_uri": "https://localhost:8080/"
        },
        "id": "2TcZ9IAt9ZmF",
        "outputId": "a6bda33d-92ed-4c10-beab-9694b87594f8"
      },
      "execution_count": null,
      "outputs": [
        {
          "output_type": "stream",
          "name": "stdout",
          "text": [
            "s0 = ซีเอ็น351\n",
            "b0 = b'\\xe0\\xb8\\x8b\\xe0\\xb8\\xb5\\xe0\\xb9\\x80\\xe0\\xb8\\xad\\xe0\\xb9\\x87\\xe0\\xb8\\x99 351'\n"
          ]
        }
      ]
    },
    {
      "cell_type": "code",
      "source": [
        "\"Hello, my name is {}!\".format(s1)"
      ],
      "metadata": {
        "colab": {
          "base_uri": "https://localhost:8080/",
          "height": 36
        },
        "id": "JQFJ2EHd9oDp",
        "outputId": "ffdc66cc-4073-439d-aad4-a439ec1ed5ab"
      },
      "execution_count": null,
      "outputs": [
        {
          "output_type": "execute_result",
          "data": {
            "text/plain": [
              "'Hello, my name is ซีเอ็น351!'"
            ],
            "application/vnd.google.colaboratory.intrinsic+json": {
              "type": "string"
            }
          },
          "metadata": {},
          "execution_count": 12
        }
      ]
    },
    {
      "cell_type": "markdown",
      "metadata": {
        "id": "sSuzU2jjHU7T"
      },
      "source": [
        "## 4) HTTP Request: Python3 Socket\n",
        "\n",
        "* https://docs.python.org/3/howto/sockets.html\n",
        "* https://docs.python.org/3/library/socket.html\n"
      ]
    },
    {
      "cell_type": "code",
      "metadata": {
        "id": "d07gOqPUHZMe"
      },
      "source": [
        "import socket"
      ],
      "execution_count": null,
      "outputs": []
    },
    {
      "cell_type": "markdown",
      "source": [
        "ตั้งค่า Socket สำหรับส่ง HTTP Request\n",
        "* TCP/IP Socket https://www.ibm.com/docs/en/zvse/6.2?topic=SSB27H_6.2.0/fa2ti_what_is_socket_connection.htm"
      ],
      "metadata": {
        "id": "VxcPJdelbyuE"
      }
    },
    {
      "cell_type": "code",
      "metadata": {
        "id": "Lx68gLpO1XnL",
        "outputId": "4442735e-d798-4173-cb18-099c348aa249",
        "colab": {
          "base_uri": "https://localhost:8080/"
        }
      },
      "source": [
        "HOST = b'httpbin.org'\n",
        "PORT = 80\n",
        "\n",
        "#กำหนดค่าการเชื่อมต่อ socket(socket_family, socket_kind)\n",
        "s = socket.socket(socket.AF_INET, socket.SOCK_STREAM)\n",
        "s.connect((HOST, PORT))\n",
        "\n",
        "#Request Line\n",
        "request = b'GET /get HTTP/1.1\\r\\n'\n",
        "request += b'Host: ' + HOST + b'\\r\\n'\n",
        "request += b'Connection: close\\r\\n'\n",
        "request += b'\\r\\n'\n",
        "\n",
        "#แสดง Request line ที่จะส่งไป\n",
        "print(request.decode())"
      ],
      "execution_count": null,
      "outputs": [
        {
          "output_type": "stream",
          "name": "stdout",
          "text": [
            "GET /get HTTP/1.1\r\n",
            "Host: httpbin.org\r\n",
            "Connection: close\r\n",
            "\r\n",
            "\n"
          ]
        }
      ]
    },
    {
      "cell_type": "markdown",
      "source": [
        "ส่ง HTTP GET Request"
      ],
      "metadata": {
        "id": "ZYHfWl3AbwJl"
      }
    },
    {
      "cell_type": "markdown",
      "source": [
        "Network Buffer Size: https://www.ibm.com/docs/en/was-zos/8.5.5?topic=SS7K4U_8.5.5/com.ibm.websphere.nd.multiplatform.doc/ae/tprf_tunetcpip.htm"
      ],
      "metadata": {
        "id": "G6fDUhfJVlOf"
      }
    },
    {
      "cell_type": "code",
      "metadata": {
        "id": "rrXKnPi-9NuV",
        "outputId": "1b27bfcd-467a-4d35-aa77-621fcb9343d2",
        "colab": {
          "base_uri": "https://localhost:8080/"
        }
      },
      "source": [
        "#ส่ง Request line ไปที่ Server\n",
        "s.sendall(request)\n",
        "\n",
        "#รับ Response จาก Server โดยตั้ง Buffer ไว้ที่  1024 Bytes (1 KBs)\n",
        "answer = s.recv(1024)\n",
        "\n",
        "#แสดงผล Response\n",
        "print(answer.decode())\n",
        "\n",
        "#ปิดการเชื่อมต่อ\n",
        "s.close()"
      ],
      "execution_count": null,
      "outputs": [
        {
          "output_type": "stream",
          "name": "stdout",
          "text": [
            "HTTP/1.1 200 OK\r\n",
            "Date: Tue, 30 Jan 2024 12:07:47 GMT\r\n",
            "Content-Type: application/json\r\n",
            "Content-Length: 198\r\n",
            "Connection: close\r\n",
            "Server: gunicorn/19.9.0\r\n",
            "Access-Control-Allow-Origin: *\r\n",
            "Access-Control-Allow-Credentials: true\r\n",
            "\r\n",
            "{\n",
            "  \"args\": {}, \n",
            "  \"headers\": {\n",
            "    \"Host\": \"httpbin.org\", \n",
            "    \"X-Amzn-Trace-Id\": \"Root=1-65b8e693-6ea50aee6863730a2c4929b6\"\n",
            "  }, \n",
            "  \"origin\": \"35.202.84.250\", \n",
            "  \"url\": \"http://httpbin.org/get\"\n",
            "}\n",
            "\n"
          ]
        }
      ]
    },
    {
      "cell_type": "markdown",
      "source": [
        "### 4.1) HTTP GET Request on HTTPS without SSL using Python Socket\n",
        "การส่ง HTTP GET Request บน HTTPS โดยไม่มี SSL ผ่าน Python socket"
      ],
      "metadata": {
        "id": "5t8mXgcZb4iC"
      }
    },
    {
      "cell_type": "code",
      "source": [
        "HOST = b'httpbin.org'\n",
        "PORT = 443\n",
        "\n",
        "s = socket.socket(socket.AF_INET, socket.SOCK_STREAM)\n",
        "s.connect((HOST, PORT))\n",
        "\n",
        "request = b'GET /get HTTP/1.1\\r\\n'\n",
        "request += b'Host: ' + HOST + b'\\r\\n'\n",
        "request += b'Connection: close\\r\\n'\n",
        "request += b'\\r\\n'\n",
        "\n",
        "print(request.decode())\n",
        "\n",
        "s.sendall(request)\n",
        "answer = s.recv(1024)\n",
        "print(answer.decode())\n",
        "\n",
        "s.close()"
      ],
      "metadata": {
        "colab": {
          "base_uri": "https://localhost:8080/"
        },
        "id": "NUbkeOTAanh2",
        "outputId": "1c3c084d-06db-4edc-b2de-2026b9e7ae94"
      },
      "execution_count": null,
      "outputs": [
        {
          "output_type": "stream",
          "name": "stdout",
          "text": [
            "GET /get HTTP/1.1\r\n",
            "Host: httpbin.org\r\n",
            "Connection: close\r\n",
            "\r\n",
            "\n",
            "HTTP/1.1 400 Bad Request\r\n",
            "Server: awselb/2.0\r\n",
            "Date: Tue, 30 Jan 2024 12:07:30 GMT\r\n",
            "Content-Type: text/html\r\n",
            "Content-Length: 220\r\n",
            "Connection: close\r\n",
            "\r\n",
            "<html>\r\n",
            "<head><title>400 The plain HTTP request was sent to HTTPS port</title></head>\r\n",
            "<body>\r\n",
            "<center><h1>400 Bad Request</h1></center>\r\n",
            "<center>The plain HTTP request was sent to HTTPS port</center>\r\n",
            "</body>\r\n",
            "</html>\r\n",
            "\n"
          ]
        }
      ]
    },
    {
      "cell_type": "markdown",
      "source": [
        "### 4.2) HTTP GET Request on HTTPS with SSL using Python Socket\n",
        "การส่ง HTTP GET Request บน HTTPS โดยไม่มี SSL ผ่าน Python socket"
      ],
      "metadata": {
        "id": "B1yV_XaLcI9m"
      }
    },
    {
      "cell_type": "code",
      "source": [
        "HOST = b'httpbin.org'\n",
        "PORT = 443\n",
        "\n",
        "s = socket.socket(socket.AF_INET, socket.SOCK_STREAM)\n",
        "\n",
        "#Encoding request with SSL to send in HTTPS\n",
        "import ssl\n",
        "wrapped_s = ssl.wrap_socket(\n",
        "    s,\n",
        "    ssl_version = ssl.PROTOCOL_TLSv1_2\n",
        "  )\n",
        "\n",
        "wrapped_s.connect((HOST, PORT))\n",
        "\n",
        "request = b'GET /get HTTP/1.1\\r\\n'\n",
        "request += b'Host: ' + HOST + b'\\r\\n'\n",
        "request += b'Connection: close\\r\\n'\n",
        "request += b'\\r\\n'\n",
        "\n",
        "print(request.decode())\n",
        "\n",
        "wrapped_s.sendall(request)\n",
        "answer = wrapped_s.recv(1024)\n",
        "print(answer.decode())\n",
        "\n",
        "wrapped_s.close()"
      ],
      "metadata": {
        "colab": {
          "base_uri": "https://localhost:8080/"
        },
        "id": "jF2WU1Zuaqix",
        "outputId": "513e52f4-1fd0-46e1-b97e-f182e6eaa2a4"
      },
      "execution_count": null,
      "outputs": [
        {
          "output_type": "stream",
          "name": "stdout",
          "text": [
            "GET /get HTTP/1.1\r\n",
            "Host: httpbin.org\r\n",
            "Connection: close\r\n",
            "\r\n",
            "\n",
            "HTTP/1.1 200 OK\r\n",
            "Date: Tue, 30 Jan 2024 12:08:04 GMT\r\n",
            "Content-Type: application/json\r\n",
            "Content-Length: 199\r\n",
            "Connection: close\r\n",
            "Server: gunicorn/19.9.0\r\n",
            "Access-Control-Allow-Origin: *\r\n",
            "Access-Control-Allow-Credentials: true\r\n",
            "\r\n",
            "{\n",
            "  \"args\": {}, \n",
            "  \"headers\": {\n",
            "    \"Host\": \"httpbin.org\", \n",
            "    \"X-Amzn-Trace-Id\": \"Root=1-65b8e6a4-50d7e6601b8960e01d676f73\"\n",
            "  }, \n",
            "  \"origin\": \"35.202.84.250\", \n",
            "  \"url\": \"https://httpbin.org/get\"\n",
            "}\n",
            "\n"
          ]
        },
        {
          "output_type": "stream",
          "name": "stderr",
          "text": [
            "<ipython-input-20-90291ad3a0b0>:8: DeprecationWarning: ssl.wrap_socket() is deprecated, use SSLContext.wrap_socket()\n",
            "  wrapped_s = ssl.wrap_socket(\n"
          ]
        }
      ]
    },
    {
      "cell_type": "markdown",
      "source": [
        "---\n",
        "#In Class Assignment W04"
      ],
      "metadata": {
        "id": "oaC3jPHHjK_k"
      }
    },
    {
      "cell_type": "markdown",
      "source": [
        "###1) ให้นักศึกษาทำการส่ง HTTP GET โดยใช้ netcat ตามรายละเอียดดังต่อไปนี้\n",
        "\n",
        "  *   ให้นักศึกษาทำการส่ง HTTP GET Request ไปที่ httpbin.org โดยใช้รูปแบบ HTTP ที่ port 80\n",
        "  *   ให้ทำการระบุ location ไปที่ /get\n",
        "  *   เพิ่ม Header ชื่อ User-Agent โดยมีค่าว่า \"Colab {ชื่อภาษาอังกฤษของนักศึกษา}\"\n"
      ],
      "metadata": {
        "id": "74s2_nzfjqwx"
      }
    },
    {
      "cell_type": "code",
      "source": [],
      "metadata": {
        "colab": {
          "base_uri": "https://localhost:8080/"
        },
        "id": "qoFEZ4WZk7lb",
        "outputId": "80a48bb5-5b59-469d-8a95-6875a27f6512"
      },
      "execution_count": null,
      "outputs": [
        {
          "output_type": "stream",
          "name": "stdout",
          "text": [
            "HTTP/1.1 200 OK\r\n",
            "Date: Tue, 30 Jan 2024 12:08:47 GMT\r\n",
            "Content-Type: application/json\r\n",
            "Content-Length: 236\r\n",
            "Connection: keep-alive\r\n",
            "Server: gunicorn/19.9.0\r\n",
            "Access-Control-Allow-Origin: *\r\n",
            "Access-Control-Allow-Credentials: true\r\n",
            "\r\n",
            "{\n",
            "  \"args\": {}, \n",
            "  \"headers\": {\n",
            "    \"Host\": \"httpbin.org\", \n",
            "    \"User-Agent\": \"Colab Tharathon\", \n",
            "    \"X-Amzn-Trace-Id\": \"Root=1-65b8e6cf-0bcd4c4276bc9b4a16b1743c\"\n",
            "  }, \n",
            "  \"origin\": \"35.202.84.250\", \n",
            "  \"url\": \"http://httpbin.org/get\"\n",
            "}\n",
            "Ncat: Idle timeout expired (1000 ms).\n"
          ]
        }
      ]
    },
    {
      "cell_type": "markdown",
      "source": [
        "###2) ให้นักศึกษาทำการส่ง HTTP GET โดยใช้ Python Socket ตามรายละเอียดดังต่อไปนี้\n",
        "  *   ให้นักศึกษาทำการส่ง HTTP GET Request ไปที่ httpbin.org โดยใช้รูปแบบ HTTP ที่ Port 80\n",
        "  *   ให้ทำการระบุ location ไปที่ /get\n",
        "  *   เพิ่ม Header ชื่อ User-Agent โดยมีค่าว่า \"Colab {ชื่อภาษาอังกฤษของนักศึกษา}\""
      ],
      "metadata": {
        "id": "eYTaOYIX5bOV"
      }
    },
    {
      "cell_type": "code",
      "source": [],
      "metadata": {
        "colab": {
          "base_uri": "https://localhost:8080/"
        },
        "id": "yMCa67ar5foF",
        "outputId": "5d63b1da-903f-451f-b8c0-96f636ac453d"
      },
      "execution_count": null,
      "outputs": [
        {
          "output_type": "stream",
          "name": "stdout",
          "text": [
            "GET /get HTTP/1.1\r\n",
            "Host: httpbin.org\r\n",
            "Connection: close\r\n",
            "User-Agent: Colab Tharathon\r\n",
            "\r\n",
            "\n",
            "HTTP/1.1 200 OK\r\n",
            "Date: Tue, 30 Jan 2024 12:09:15 GMT\r\n",
            "Content-Type: application/json\r\n",
            "Content-Length: 236\r\n",
            "Connection: close\r\n",
            "Server: gunicorn/19.9.0\r\n",
            "Access-Control-Allow-Origin: *\r\n",
            "Access-Control-Allow-Credentials: true\r\n",
            "\r\n",
            "{\n",
            "  \"args\": {}, \n",
            "  \"headers\": {\n",
            "    \"Host\": \"httpbin.org\", \n",
            "    \"User-Agent\": \"Colab Tharathon\", \n",
            "    \"X-Amzn-Trace-Id\": \"Root=1-65b8e6eb-0c41aff214ab9a21417e5782\"\n",
            "  }, \n",
            "  \"origin\": \"35.202.84.250\", \n",
            "  \"url\": \"http://httpbin.org/get\"\n",
            "}\n",
            "\n"
          ]
        }
      ]
    },
    {
      "cell_type": "markdown",
      "source": [
        "###3) ให้นักศึกษาทำการส่ง HTTP POST โดยใช้ Python Socket ตามรายละเอียดดังต่อไปนี้\n",
        "\n",
        "  *   ให้นักศึกษาทำการส่ง HTTP POST Request ไปที่ httpbin.org\n",
        "  *   ให้ทำการระบุ location ไปที่ /post\n",
        "  *   เพิ่ม Header ชื่อ User-Agent โดยมีค่าว่า \"Colab {ชื่อภาษาอังกฤษของนักศึกษา}\"\n",
        "  *   เพิ่ม Header Content-Type โดยระบุเป็น text/plain\n",
        "  *   ทำการใส่ Body เป็น text คำว่า \"สวัสดี Server, ฉันชื่อ {ชื่อ-นามสกุลภาษาอังกฤษของนักศึกษา}\"\n",
        "  *   *นักศึกษาต้องทำการใส่ Header Content-Length ให้ request ด้วยโดยค่าของ Content-Length คือจำนวน byte ของ body ที่นักศึกษาส่งไปกับ request"
      ],
      "metadata": {
        "id": "chzBcklruP72"
      }
    },
    {
      "cell_type": "code",
      "source": [],
      "metadata": {
        "colab": {
          "base_uri": "https://localhost:8080/"
        },
        "id": "h8tT9l3ntwwL",
        "outputId": "e61ec4a8-a95c-47c2-facb-0c6f3b1235f2"
      },
      "execution_count": null,
      "outputs": [
        {
          "output_type": "stream",
          "name": "stdout",
          "text": [
            "POST /post HTTP/1.1\r\n",
            "Host: httpbin.org\r\n",
            "Connection: close\r\n",
            "User-Agent: Colab Tharathon\r\n",
            "Content-Type: text/plain\r\n",
            "Content-Length: 65\r\n",
            "\r\n",
            "สวัสดี Server, ฉันชื่อ Tharathon Utasri\n",
            "HTTP/1.1 200 OK\r\n",
            "Date: Tue, 30 Jan 2024 12:09:52 GMT\r\n",
            "Content-Type: application/json\r\n",
            "Content-Length: 468\r\n",
            "Connection: close\r\n",
            "Server: gunicorn/19.9.0\r\n",
            "Access-Control-Allow-Origin: *\r\n",
            "Access-Control-Allow-Credentials: true\r\n",
            "\r\n",
            "{\n",
            "  \"args\": {}, \n",
            "  \"data\": \"\\u0e2a\\u0e27\\u0e31\\u0e2a\\u0e14\\u0e35 Server, \\u0e09\\u0e31\\u0e19\\u0e0a\\u0e37\\u0e48\\u0e2d Tharathon Utasri\", \n",
            "  \"files\": {}, \n",
            "  \"form\": {}, \n",
            "  \"headers\": {\n",
            "    \"Content-Length\": \"65\", \n",
            "    \"Content-Type\": \"text/plain\", \n",
            "    \"Host\": \"httpbin.org\", \n",
            "    \"User-Agent\": \"Colab Tharathon\", \n",
            "    \"X-Amzn-Trace-Id\": \"Root=1-65b8e710-08e71cec49ae4bc02af80325\"\n",
            "  }, \n",
            "  \"json\": null, \n",
            "  \"origin\": \"35.202.84.250\", \n",
            "  \"url\": \"http://httpbin.org/post\"\n",
            "}\n",
            "\n"
          ]
        }
      ]
    },
    {
      "cell_type": "markdown",
      "source": [
        "###4) ให้นักศึกษาทำการส่ง HTTP PUT โดยใช้ Python Socket ตามรายละเอียดดังต่อไปนี้\n",
        "\n",
        "  *   ให้นักศึกษาทำการส่ง HTTP PUT Request ไปที่ httpbin.org\n",
        "  *   ให้ทำการระบุ location ไปที่ /put\n",
        "  *   เพิ่ม Header ชื่อ User-Agent โดยมีค่าว่า \"Colab {ชื่อภาษาอังกฤษของนักศึกษา}\"\n",
        "  *   เพิ่ม Header Content-Type โดยระบุเป็น text/plain\n",
        "  *   ทำการใส่ Body เป็น text คำว่า \"สวัสดี Server, ฉันชื่อ {ชื่อ-นามสกุลภาษาอังกฤษของนักศึกษา}\"\n",
        "  *   *นักศึกษาต้องทำการใส่ Header Content-Length ให้ request ด้วยโดยค่าของ Content-Length คือจำนวน byte ของ body ที่นักศึกษาส่งไปกับ request"
      ],
      "metadata": {
        "id": "0jH8yLNw_uDO"
      }
    },
    {
      "cell_type": "code",
      "source": [],
      "metadata": {
        "colab": {
          "base_uri": "https://localhost:8080/"
        },
        "outputId": "c8b055af-b679-4cd2-bf12-201b5aa9ee87",
        "id": "55rRnxKZBE8a"
      },
      "execution_count": null,
      "outputs": [
        {
          "output_type": "stream",
          "name": "stdout",
          "text": [
            "PUT /put HTTP/1.1\r\n",
            "Host: httpbin.org\r\n",
            "Connection: close\r\n",
            "User-Agent: Colab Tharathon\r\n",
            "Content-Type: text/plain\r\n",
            "Content-Length: 65\r\n",
            "\r\n",
            "สวัสดี Server, ฉันชื่อ Tharathon Utasri\n",
            "HTTP/1.1 200 OK\r\n",
            "Date: Tue, 30 Jan 2024 12:10:21 GMT\r\n",
            "Content-Type: application/json\r\n",
            "Content-Length: 467\r\n",
            "Connection: close\r\n",
            "Server: gunicorn/19.9.0\r\n",
            "Access-Control-Allow-Origin: *\r\n",
            "Access-Control-Allow-Credentials: true\r\n",
            "\r\n",
            "{\n",
            "  \"args\": {}, \n",
            "  \"data\": \"\\u0e2a\\u0e27\\u0e31\\u0e2a\\u0e14\\u0e35 Server, \\u0e09\\u0e31\\u0e19\\u0e0a\\u0e37\\u0e48\\u0e2d Tharathon Utasri\", \n",
            "  \"files\": {}, \n",
            "  \"form\": {}, \n",
            "  \"headers\": {\n",
            "    \"Content-Length\": \"65\", \n",
            "    \"Content-Type\": \"text/plain\", \n",
            "    \"Host\": \"httpbin.org\", \n",
            "    \"User-Agent\": \"Colab Tharathon\", \n",
            "    \"X-Amzn-Trace-Id\": \"Root=1-65b8e72d-33a1e1fc6a1d73e24bbe8bd7\"\n",
            "  }, \n",
            "  \"json\": null, \n",
            "  \"origin\": \"35.202.84.250\", \n",
            "  \"url\": \"http://httpbin.org/put\"\n",
            "}\n",
            "\n"
          ]
        }
      ]
    },
    {
      "cell_type": "markdown",
      "source": [
        "###5) ให้นักศึกษาทำการส่ง HTTP PATCH โดยใช้ Python Socket ตามรายละเอียดดังต่อไปนี้\n",
        "\n",
        "  *   ให้นักศึกษาทำการส่ง HTTP PATCH Request ไปที่ httpbin.org\n",
        "  *   ให้ทำการระบุ location ไปที่ /patch\n",
        "  *   เพิ่ม Header ชื่อ User-Agent โดยมีค่าว่า \"Colab {ชื่อภาษาอังกฤษของนักศึกษา}\"\n",
        "  *   เพิ่ม Header Content-Type โดยระบุเป็น text/plain\n",
        "  *   ไม่ต้องทำการใส่ Body"
      ],
      "metadata": {
        "id": "n_jRHEILDDO9"
      }
    },
    {
      "cell_type": "code",
      "source": [],
      "metadata": {
        "colab": {
          "base_uri": "https://localhost:8080/"
        },
        "id": "L5-XsO-dC_ye",
        "outputId": "ecde74f2-a740-4f99-d356-75c7c2ff011f"
      },
      "execution_count": null,
      "outputs": [
        {
          "output_type": "stream",
          "name": "stdout",
          "text": [
            "PATCH /patch HTTP/1.1\r\n",
            "Host: httpbin.org\r\n",
            "Connection: close\r\n",
            "User-Agent: Colab Tharathon\r\n",
            "Content-Type: text/plain\r\n",
            "\r\n",
            "\n",
            "HTTP/1.1 200 OK\r\n",
            "Date: Tue, 30 Jan 2024 12:11:00 GMT\r\n",
            "Content-Type: application/json\r\n",
            "Content-Length: 336\r\n",
            "Connection: close\r\n",
            "Server: gunicorn/19.9.0\r\n",
            "Access-Control-Allow-Origin: *\r\n",
            "Access-Control-Allow-Credentials: true\r\n",
            "\r\n",
            "{\n",
            "  \"args\": {}, \n",
            "  \"data\": \"\", \n",
            "  \"files\": {}, \n",
            "  \"form\": {}, \n",
            "  \"headers\": {\n",
            "    \"Content-Type\": \"text/plain\", \n",
            "    \"Host\": \"httpbin.org\", \n",
            "    \"User-Agent\": \"Colab Tharathon\", \n",
            "    \"X-Amzn-Trace-Id\": \"Root=1-65b8e754-2f73f396489f89de46554a6c\"\n",
            "  }, \n",
            "  \"json\": null, \n",
            "  \"origin\": \"35.202.84.250\", \n",
            "  \"url\": \"http://httpbin.org/patch\"\n",
            "}\n",
            "\n"
          ]
        }
      ]
    },
    {
      "cell_type": "markdown",
      "source": [
        "### 6) ให้นักศึกษาทำการส่ง HTTP PATCH โดยใช้ Python Socket ตามรายละเอียดดังต่อไปนี้\n",
        "\n",
        "  *   ให้นักศึกษาทำการส่ง HTTP PATCH Request ไปที่ httpbin.org\n",
        "  *   ให้ทำการระบุ location ไปที่ /patch\n",
        "  *   เพิ่ม Header ชื่อ User-Agent โดยมีค่าว่า \"Colab {ชื่อภาษาอังกฤษของนักศึกษา}\"\n",
        "  *   เพิ่ม Header Content-Type โดยระบุเป็น text/plain\n",
        "  *   ทำการใส่ Body เป็น text คำว่า \"สวัสดี Server, ฉันชื่อ {ชื่อ-นามสกุลภาษาอังกฤษของนักศึกษา}\"\n",
        "  *   *นักศึกษาต้องทำการใส่ Header Content-Length ให้ request ด้วยโดยค่าของ Content-Length คือจำนวน byte ของ body ที่นักศึกษาส่งไปกับ request"
      ],
      "metadata": {
        "id": "uwROqOcTETPs"
      }
    },
    {
      "cell_type": "code",
      "source": [],
      "metadata": {
        "colab": {
          "base_uri": "https://localhost:8080/"
        },
        "id": "dmRKHSM-ERGc",
        "outputId": "da14caa7-2421-4d47-87d9-12c7304ae4ba"
      },
      "execution_count": null,
      "outputs": [
        {
          "output_type": "stream",
          "name": "stdout",
          "text": [
            "PATCH /patch HTTP/1.1\r\n",
            "Host: httpbin.org\r\n",
            "Connection: close\r\n",
            "User-Agent: Colab Tharathon\r\n",
            "Content-Type: text/plain\r\n",
            "Content-Length: 65\r\n",
            "\r\n",
            "สวัสดี Server, ฉันชื่อ Tharathon Utasri\n",
            "HTTP/1.1 200 OK\n",
            "Date: Tue, 30 Jan 2024 12:11:42 GMT\n",
            "Content-Type: application/json\n",
            "Content-Length: 469\n",
            "Connection: close\n",
            "Server: gunicorn/19.9.0\n",
            "Access-Control-Allow-Origin: *\n",
            "Access-Control-Allow-Credentials: true\n",
            "\n",
            "{\n",
            "  \"args\": {}, \n",
            "  \"data\": \"\\u0e2a\\u0e27\\u0e31\\u0e2a\\u0e14\\u0e35 Server, \\u0e09\\u0e31\\u0e19\\u0e0a\\u0e37\\u0e48\\u0e2d Tharathon Utasri\", \n",
            "  \"files\": {}, \n",
            "  \"form\": {}, \n",
            "  \"headers\": {\n",
            "    \"Content-Length\": \"65\", \n",
            "    \"Content-Type\": \"text/plain\", \n",
            "    \"Host\": \"httpbin.org\", \n",
            "    \"User-Agent\": \"Colab Tharathon\", \n",
            "    \"X-Amzn-Trace-Id\": \"Root=1-65b8e77d-2387821f2c8e761a1cd63350\"\n",
            "  }, \n",
            "  \"json\": null, \n",
            "  \"origin\": \"35.202.84.250\", \n",
            "  \"url\": \"http://httpbin.org/patch\"\n",
            "}\n",
            "\n"
          ]
        }
      ]
    },
    {
      "cell_type": "markdown",
      "source": [
        "### 7) ให้นักศึกษาทำการส่ง HTTP DELETE โดยใช้ Python Socket ตามรายละเอียดดังต่อไปนี้"
      ],
      "metadata": {
        "id": "JjtO95_oFc_l"
      }
    },
    {
      "cell_type": "markdown",
      "source": [
        "#### 7.1 HTTP DELETE Type 1\n",
        "  *   ให้นักศึกษาทำการส่ง HTTP DELETE Request ไปที่ httpbin.org\n",
        "  *   ให้ทำการระบุ location ไปที่ /delete\n",
        "  *   เพิ่ม Header ชื่อ User-Agent โดยมีค่าว่า \"Colab {ชื่อภาษาอังกฤษของนักศึกษา}\""
      ],
      "metadata": {
        "id": "-ONUHCM5GWoN"
      }
    },
    {
      "cell_type": "code",
      "source": [],
      "metadata": {
        "colab": {
          "base_uri": "https://localhost:8080/"
        },
        "id": "ngm0zIYrGWRB",
        "outputId": "f642cc1b-1854-49b8-c390-079b905a8bb6"
      },
      "execution_count": null,
      "outputs": [
        {
          "output_type": "stream",
          "name": "stdout",
          "text": [
            "DELETE /delete HTTP/1.1\r\n",
            "Host: httpbin.org\r\n",
            "Connection: close\r\n",
            "User-Agent: Colab Tharathon\r\n",
            "\r\n",
            "\n",
            "HTTP/1.1 200 OK\n",
            "Date: Tue, 30 Jan 2024 12:12:31 GMT\n",
            "Content-Type: application/json\n",
            "Content-Length: 302\n",
            "Connection: close\n",
            "Server: gunicorn/19.9.0\n",
            "Access-Control-Allow-Origin: *\n",
            "Access-Control-Allow-Credentials: true\n",
            "\n",
            "{\n",
            "  \"args\": {}, \n",
            "  \"data\": \"\", \n",
            "  \"files\": {}, \n",
            "  \"form\": {}, \n",
            "  \"headers\": {\n",
            "    \"Host\": \"httpbin.org\", \n",
            "    \"User-Agent\": \"Colab Tharathon\", \n",
            "    \"X-Amzn-Trace-Id\": \"Root=1-65b8e7af-2ca0c7b80edfff116a902995\"\n",
            "  }, \n",
            "  \"json\": null, \n",
            "  \"origin\": \"35.202.84.250\", \n",
            "  \"url\": \"http://httpbin.org/delete\"\n",
            "}\n",
            "\n"
          ]
        }
      ]
    }
  ]
}